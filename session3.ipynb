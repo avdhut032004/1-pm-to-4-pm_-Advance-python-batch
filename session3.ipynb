{
 "cells": [
  {
   "cell_type": "markdown",
   "id": "44fb9519",
   "metadata": {},
   "source": [
    "# session 3"
   ]
  },
  {
   "cell_type": "code",
   "execution_count": 1,
   "id": "06f7bdc4",
   "metadata": {},
   "outputs": [],
   "source": [
    "s1={1,2,2,22,33,3,4,4,5,5,5,5,6,6,}"
   ]
  },
  {
   "cell_type": "code",
   "execution_count": 2,
   "id": "3d563b92",
   "metadata": {},
   "outputs": [
    {
     "data": {
      "text/plain": [
       "{1, 2, 3, 4, 5, 6, 22, 33}"
      ]
     },
     "execution_count": 2,
     "metadata": {},
     "output_type": "execute_result"
    }
   ],
   "source": [
    "s1"
   ]
  },
  {
   "cell_type": "code",
   "execution_count": null,
   "id": "dc482bf3",
   "metadata": {},
   "outputs": [],
   "source": []
  }
 ],
 "metadata": {
  "kernelspec": {
   "display_name": "base",
   "language": "python",
   "name": "python3"
  },
  "language_info": {
   "codemirror_mode": {
    "name": "ipython",
    "version": 3
   },
   "file_extension": ".py",
   "mimetype": "text/x-python",
   "name": "python",
   "nbconvert_exporter": "python",
   "pygments_lexer": "ipython3",
   "version": "3.13.5"
  }
 },
 "nbformat": 4,
 "nbformat_minor": 5
}
