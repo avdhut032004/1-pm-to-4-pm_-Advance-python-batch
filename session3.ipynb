{
 "cells": [
  {
   "cell_type": "markdown",
   "id": "44fb9519",
   "metadata": {},
   "source": [
    "# session 3"
   ]
  },
  {
   "cell_type": "code",
   "execution_count": 1,
   "id": "06f7bdc4",
   "metadata": {},
   "outputs": [],
   "source": [
    "s1={1,2,2,22,33,3,4,4,5,5,5,5,6,6,}"
   ]
  },
  {
   "cell_type": "code",
   "execution_count": 2,
   "id": "3d563b92",
   "metadata": {},
   "outputs": [
    {
     "data": {
      "text/plain": [
       "{1, 2, 3, 4, 5, 6, 22, 33}"
      ]
     },
     "execution_count": 2,
     "metadata": {},
     "output_type": "execute_result"
    }
   ],
   "source": [
    "s1"
   ]
  },
  {
   "cell_type": "code",
   "execution_count": 1,
   "id": "3db89ecd",
   "metadata": {},
   "outputs": [],
   "source": [
    "# calculate interest \n",
    "# interest=(prt)/100"
   ]
  },
  {
   "cell_type": "code",
   "execution_count": 5,
   "id": "dc482bf3",
   "metadata": {},
   "outputs": [],
   "source": [
    "# defining a function\n",
    "def calculate_interest(p, r, t):\n",
    "    # calculate interest\n",
    "    interest=(p*r*t)/100\n",
    "    print(\"The interest is:\", interest)\n",
    " "
   ]
  },
  {
   "cell_type": "code",
   "execution_count": 6,
   "id": "ad2f03e3",
   "metadata": {},
   "outputs": [
    {
     "name": "stdout",
     "output_type": "stream",
     "text": [
      "\n",
      "Multiplication Table of 7:\n",
      "7 x 1 = 7\n",
      "7 x 2 = 14\n",
      "7 x 3 = 21\n",
      "7 x 4 = 28\n",
      "7 x 5 = 35\n",
      "7 x 6 = 42\n",
      "7 x 7 = 49\n",
      "7 x 8 = 56\n",
      "7 x 9 = 63\n",
      "7 x 10 = 70\n"
     ]
    }
   ],
   "source": [
    "# create a function for printing table of any number\n",
    "\n",
    "def print_table(num):\n",
    "    print(f\"\\nMultiplication Table of {num}:\")\n",
    "    for i in range(1, 11):\n",
    "        print(f\"{num} x {i} = {num * i}\")\n",
    "\n",
    "# Example usage\n",
    "print_table(7)\n"
   ]
  },
  {
   "cell_type": "code",
   "execution_count": null,
   "id": "54267c9b",
   "metadata": {},
   "outputs": [],
   "source": [
    "# 'args=This will act like a tuple inside a fuction\n",
    "# used for accepting multiple parameter in one argument"
   ]
  },
  {
   "cell_type": "code",
   "execution_count": 15,
   "id": "eff130cd",
   "metadata": {},
   "outputs": [
    {
     "ename": "SyntaxError",
     "evalue": "invalid syntax (2520550953.py, line 1)",
     "output_type": "error",
     "traceback": [
      "\u001b[1;36m  Cell \u001b[1;32mIn[15], line 1\u001b[1;36m\u001b[0m\n\u001b[1;33m    ef information(*lst):\u001b[0m\n\u001b[1;37m       ^\u001b[0m\n\u001b[1;31mSyntaxError\u001b[0m\u001b[1;31m:\u001b[0m invalid syntax\n"
     ]
    }
   ],
   "source": [
    "ef information(*lst):\n",
    "    print(f\"values:{lst}\")\n",
    "    print(f\"type:{type(lst)}\")\n",
    "    for i in lst:\n",
    "        print(i)"
   ]
  },
  {
   "cell_type": "code",
   "execution_count": 8,
   "id": "2b4b14ff",
   "metadata": {},
   "outputs": [],
   "source": [
    "# return multiplication of a number\n",
    "# 2,4,6,3=144"
   ]
  },
  {
   "cell_type": "code",
   "execution_count": 9,
   "id": "a79be6e6",
   "metadata": {},
   "outputs": [],
   "source": [
    "def return_multiplication(*args):\n",
    "    m=1\n",
    "    for i in args:\n",
    "        m=m*i\n",
    "        return m"
   ]
  },
  {
   "cell_type": "code",
   "execution_count": 13,
   "id": "93d1cb4d",
   "metadata": {},
   "outputs": [],
   "source": [
    "def information(*lst):\n",
    "    print(f\"values:{lst}\")\n",
    "    print(f\"type:{type(lst)}\")\n",
    "    for i in lst:\n",
    "        print(i)"
   ]
  },
  {
   "cell_type": "code",
   "execution_count": 25,
   "id": "4d36f416",
   "metadata": {},
   "outputs": [],
   "source": [
    "cart=[\n",
    "    (\"laptop\",35000,1),\n",
    "     (\"keyboard\",6000,2),\n",
    "    (\"mouse\",200,5),\n",
    "    (\"mouse pad\",100,10),\n",
    "]"
   ]
  },
  {
   "cell_type": "code",
   "execution_count": 23,
   "id": "3d1fb594",
   "metadata": {},
   "outputs": [],
   "source": [
    "def print_info(*args):\n",
    "    total_price=0\n",
    "    # print information\n",
    "    for name,price,qty in args:\n",
    "        print(f\"name:{name},price:{price},quantity:{qty}\")\n",
    "        print(\"---------------------------\")\n",
    "        total_price=total_price+price\n",
    "    return f\"total price={total_price}\""
   ]
  },
  {
   "cell_type": "code",
   "execution_count": 26,
   "id": "421f9a4a",
   "metadata": {},
   "outputs": [
    {
     "name": "stdout",
     "output_type": "stream",
     "text": [
      "name:laptop,price:35000,quantity:1\n",
      "---------------------------\n",
      "name:keyboard,price:6000,quantity:2\n",
      "---------------------------\n",
      "name:mouse,price:200,quantity:5\n",
      "---------------------------\n",
      "name:mouse pad,price:100,quantity:10\n",
      "---------------------------\n"
     ]
    },
    {
     "data": {
      "text/plain": [
       "'total price=41300'"
      ]
     },
     "execution_count": 26,
     "metadata": {},
     "output_type": "execute_result"
    }
   ],
   "source": [
    "print_info(*cart)"
   ]
  },
  {
   "cell_type": "code",
   "execution_count": 36,
   "id": "925a54b6",
   "metadata": {},
   "outputs": [],
   "source": [
    "cart=[\n",
    "    ('smith',20,20000),\n",
    "    ('Avdhut',99,30000),\n",
    "    ('sujit',22,40000),\n",
    "    ('rohan',23,50000)\n",
    "]"
   ]
  },
  {
   "cell_type": "code",
   "execution_count": 37,
   "id": "dcdb2b6e",
   "metadata": {},
   "outputs": [],
   "source": [
    "def emp_info(*args):\n",
    "    total_salary=0\n",
    "    # print infomation of employee\n",
    "    for name,age,salary in args:\n",
    "        print(f'Name:{name},age:{age},salary:{salary}')\n",
    "        print('__________________________________________')\n",
    "        total_salary=total_salary+salary\n",
    "    return f'Total salary is : {total_salary}'\n",
    " "
   ]
  },
  {
   "cell_type": "code",
   "execution_count": 38,
   "id": "3e88d8e9",
   "metadata": {},
   "outputs": [
    {
     "name": "stdout",
     "output_type": "stream",
     "text": [
      "Name:smith,age:20,salary:20000\n",
      "__________________________________________\n",
      "Name:Avdhut,age:99,salary:30000\n",
      "__________________________________________\n",
      "Name:sujit,age:22,salary:40000\n",
      "__________________________________________\n",
      "Name:rohan,age:23,salary:50000\n",
      "__________________________________________\n"
     ]
    },
    {
     "data": {
      "text/plain": [
       "'Total salary is : 140000'"
      ]
     },
     "execution_count": 38,
     "metadata": {},
     "output_type": "execute_result"
    }
   ],
   "source": [
    "emp_info(*cart)"
   ]
  },
  {
   "cell_type": "code",
   "execution_count": 39,
   "id": "d10f28ee",
   "metadata": {},
   "outputs": [],
   "source": [
    "def display (**kwargs):\n",
    "    print(f\"values:{kawargs}\")\n",
    "    for key,value in kawargs.items():\n",
    "        print(f\"key={key}\\nvalue={value}\")"
   ]
  },
  {
   "cell_type": "code",
   "execution_count": 44,
   "id": "175cc505",
   "metadata": {},
   "outputs": [],
   "source": [
    "# lambda function =used for small calculation"
   ]
  },
  {
   "cell_type": "code",
   "execution_count": 45,
   "id": "6911fa7f",
   "metadata": {},
   "outputs": [],
   "source": [
    "add=lambda a,b,c:a+b"
   ]
  },
  {
   "cell_type": "code",
   "execution_count": 47,
   "id": "5668906c",
   "metadata": {},
   "outputs": [
    {
     "name": "stdout",
     "output_type": "stream",
     "text": [
      "12\n"
     ]
    }
   ],
   "source": [
    "add = lambda a, b: a + b\n",
    "print(add(5, 7))\n"
   ]
  },
  {
   "cell_type": "code",
   "execution_count": 48,
   "id": "fedb8a8d",
   "metadata": {},
   "outputs": [
    {
     "name": "stdout",
     "output_type": "stream",
     "text": [
      "25\n"
     ]
    }
   ],
   "source": [
    "sq = lambda x: x * x\n",
    "print(sq(5))\n"
   ]
  },
  {
   "cell_type": "code",
   "execution_count": 49,
   "id": "d5e5db1e",
   "metadata": {},
   "outputs": [
    {
     "name": "stdout",
     "output_type": "stream",
     "text": [
      "125\n"
     ]
    }
   ],
   "source": [
    "cube = lambda x: x ** 3\n",
    "print(cube(5))\n"
   ]
  },
  {
   "cell_type": "code",
   "execution_count": 50,
   "id": "5381d16b",
   "metadata": {},
   "outputs": [
    {
     "name": "stdout",
     "output_type": "stream",
     "text": [
      "60\n"
     ]
    }
   ],
   "source": [
    "add = lambda a, b, c: a + b + c\n",
    "print(add(10, 20, 30))\n"
   ]
  },
  {
   "cell_type": "code",
   "execution_count": 51,
   "id": "53bd2696",
   "metadata": {},
   "outputs": [
    {
     "name": "stdout",
     "output_type": "stream",
     "text": [
      "5.0\n"
     ]
    }
   ],
   "source": [
    "div = lambda a, b: a / b\n",
    "print(div(10, 2))\n"
   ]
  }
 ],
 "metadata": {
  "kernelspec": {
   "display_name": "base",
   "language": "python",
   "name": "python3"
  },
  "language_info": {
   "codemirror_mode": {
    "name": "ipython",
    "version": 3
   },
   "file_extension": ".py",
   "mimetype": "text/x-python",
   "name": "python",
   "nbconvert_exporter": "python",
   "pygments_lexer": "ipython3",
   "version": "3.13.5"
  }
 },
 "nbformat": 4,
 "nbformat_minor": 5
}
