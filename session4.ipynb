{
 "cells": [
  {
   "cell_type": "markdown",
   "id": "6b5d634c",
   "metadata": {},
   "source": [
    "# *args,**kwargs"
   ]
  },
  {
   "cell_type": "code",
   "execution_count": 3,
   "id": "631b5d8d",
   "metadata": {},
   "outputs": [],
   "source": [
    "# calculate area of rectangle  "
   ]
  },
  {
   "cell_type": "code",
   "execution_count": 5,
   "id": "87950885",
   "metadata": {},
   "outputs": [],
   "source": [
    "def area_of_rect_(l,b):\n",
    "    aor=l*b\n",
    "    print(\"area pof rectangle\",aor)"
   ]
  },
  {
   "cell_type": "code",
   "execution_count": null,
   "id": "0e50f980",
   "metadata": {},
   "outputs": [],
   "source": []
  },
  {
   "cell_type": "code",
   "execution_count": 7,
   "id": "e5809ea9",
   "metadata": {},
   "outputs": [],
   "source": [
    "# sum of all values present in a parameter "
   ]
  },
  {
   "cell_type": "code",
   "execution_count": 17,
   "id": "94da0ad3",
   "metadata": {},
   "outputs": [],
   "source": [
    "def cal_sum(*args): #(2,3,4)\n",
    "    sum=0\n",
    "    for i in args:\n",
    "        sum=sum+i # sum=0+2+3=5=4=9\n",
    "    return f\"sum of all values={sum}\""
   ]
  },
  {
   "cell_type": "code",
   "execution_count": 18,
   "metadata": {},
   "outputs": [
    {
     "data": {
      "text/plain": [
       "'sum of all values=9'"
      ]
     },
     "execution_count": 18,
     "metadata": {},
     "output_type": "execute_result"
    }
   ],
   "source": [
    "cal_sum(2,3,4)"
   ]
  },
  {
   "cell_type": "code",
   "execution_count": 13,
   "metadata": {},
   "outputs": [],
   "source": [
    "lst=[4,5,7,10,20,30,40,50]"
   ]
  },
  {
   "cell_type": "code",
   "execution_count": 19,
   "id": "0b8c9d29",
   "metadata": {},
   "outputs": [
    {
     "data": {
      "text/plain": [
       "'sum of all values=166'"
      ]
     },
     "execution_count": 19,
     "metadata": {},
     "output_type": "execute_result"
    }
   ],
   "source": [
    "# list unpacking\n",
    "cal_sum(*lst)"
   ]
  },
  {
   "cell_type": "code",
   "execution_count": 2,
   "id": "b9eb383b",
   "metadata": {},
   "outputs": [],
   "source": [
    "# **kwargs"
   ]
  },
  {
   "cell_type": "code",
   "execution_count": 20,
   "id": "6007e02a",
   "metadata": {},
   "outputs": [],
   "source": [
    "def display_data(**kwargs): #{\"key\":\"values\"}\n",
    "    print(f\"values: {kwargs}\")"
   ]
  },
  {
   "cell_type": "code",
   "execution_count": 21,
   "id": "fce097e0",
   "metadata": {},
   "outputs": [
    {
     "name": "stdout",
     "output_type": "stream",
     "text": [
      "values: {'name': 'prashant', 'age': 21, 'salary': 20000}\n"
     ]
    }
   ],
   "source": [
    "display_data (name=\"prashant\",age=21,salary=20000)"
   ]
  },
  {
   "cell_type": "code",
   "execution_count": 22,
   "id": "dfd05cb7",
   "metadata": {},
   "outputs": [],
   "source": [
    "menu={\n",
    "    \"pizza\":250,\n",
    "    \"maggie\":50,\n",
    "    \"burger\":70,\n",
    "}"
   ]
  },
  {
   "cell_type": "code",
   "execution_count": 26,
   "id": "8bc9644a",
   "metadata": {},
   "outputs": [
    {
     "name": "stdout",
     "output_type": "stream",
     "text": [
      "Pizza = 250\n",
      "Maggie = 50\n",
      "Burger = 70\n",
      "Total = 370\n"
     ]
    }
   ],
   "source": [
    "\n",
    "\n",
    "print(\"Pizza =\", menu[\"pizza\"])\n",
    "print(\"Maggie =\", menu[\"maggie\"])\n",
    "print(\"Burger =\", menu[\"burger\"])\n",
    "\n",
    "total = sum(menu.values())\n",
    "print(\"Total =\", total)\n"
   ]
  },
  {
   "cell_type": "code",
   "execution_count": 27,
   "id": "bbd8de1d",
   "metadata": {},
   "outputs": [
    {
     "data": {
      "text/plain": [
       "dict_values([250, 50, 70])"
      ]
     },
     "execution_count": 27,
     "metadata": {},
     "output_type": "execute_result"
    }
   ],
   "source": [
    "menu.values()"
   ]
  },
  {
   "cell_type": "code",
   "execution_count": 28,
   "id": "205e6b99",
   "metadata": {},
   "outputs": [
    {
     "data": {
      "text/plain": [
       "250"
      ]
     },
     "execution_count": 28,
     "metadata": {},
     "output_type": "execute_result"
    }
   ],
   "source": [
    "menu.get(\"pizza\")"
   ]
  },
  {
   "cell_type": "code",
   "execution_count": 29,
   "id": "df531876",
   "metadata": {},
   "outputs": [
    {
     "data": {
      "text/plain": [
       "50"
      ]
     },
     "execution_count": 29,
     "metadata": {},
     "output_type": "execute_result"
    }
   ],
   "source": [
    "menu.get(\"maggie\")"
   ]
  },
  {
   "cell_type": "code",
   "execution_count": 30,
   "id": "a0dd9b07",
   "metadata": {},
   "outputs": [
    {
     "data": {
      "text/plain": [
       "70"
      ]
     },
     "execution_count": 30,
     "metadata": {},
     "output_type": "execute_result"
    }
   ],
   "source": [
    "menu.get(\"burger\")"
   ]
  },
  {
   "cell_type": "code",
   "execution_count": 31,
   "id": "b02ecda7",
   "metadata": {},
   "outputs": [
    {
     "name": "stdout",
     "output_type": "stream",
     "text": [
      "Total = 370\n"
     ]
    }
   ],
   "source": [
    "total = sum(menu.values())\n",
    "print(\"Total =\", total)"
   ]
  },
  {
   "cell_type": "code",
   "execution_count": 48,
   "id": "ab8e42f2",
   "metadata": {},
   "outputs": [
    {
     "name": "stdout",
     "output_type": "stream",
     "text": [
      "Pizza = ₹250 × 2 = ₹500\n",
      "Maggie = ₹50 × 3 = ₹150\n",
      "Burger = ₹70 × 1 = ₹70\n",
      "Coffee = ₹80 × 3 = ₹240\n",
      "-------------\n",
      "Total Bill = ₹960\n"
     ]
    }
   ],
   "source": [
    "menu = {\n",
    "    \"pizza\": 250,\n",
    "    \"maggie\": 50,\n",
    "    \"burger\": 70,\n",
    "    \"tea\":20,\n",
    "    \"coffee\":50\n",
    "}\n",
    "\n",
    "quantity = {\n",
    "    \"pizza\": 2,\n",
    "    \"maggie\": 3,\n",
    "    \"burger\": 1,\n",
    "    \"coffee\": 3,\n",
    "}\n",
    "\n",
    "menu[\"coffee\"] = 80\n",
    "\n",
    "total = 0\n",
    "for item in quantity:\n",
    "    price = menu.get(item, 0)\n",
    "    qty = quantity[item]\n",
    "    total += price * qty\n",
    "    print(f\"{item.capitalize()} = ₹{price} × {qty} = ₹{price * qty}\")\n",
    "\n",
    "print(\"-------------\")\n",
    "print(f\"Total Bill = ₹{total}\")\n"
   ]
  },
  {
   "cell_type": "markdown",
   "id": "65c81795",
   "metadata": {},
   "source": [
    "# Performing Billing For a Resturant"
   ]
  },
  {
   "cell_type": "code",
   "execution_count": 49,
   "id": "8e3ea7a9",
   "metadata": {},
   "outputs": [],
   "source": [
    "def resturant_billing(**kwargs):\n",
    "    bill=0\n",
    "    for food,qty in kwargs.items():\n",
    "        amt=menu.get(food)*qty\n",
    "        bill=bill+amt\n",
    "        print(f\"food:{food},quantity:{qty},amount:{amt}\")\n",
    "    return f\"total bill={bill}\""
   ]
  },
  {
   "cell_type": "code",
   "execution_count": 50,
   "id": "989f39df",
   "metadata": {},
   "outputs": [
    {
     "name": "stdout",
     "output_type": "stream",
     "text": [
      "food:burger,quantity:2,amount:140\n",
      "food:coffee,quantity:3,amount:240\n",
      "food:tea,quantity:3,amount:60\n"
     ]
    },
    {
     "data": {
      "text/plain": [
       "'total bill=440'"
      ]
     },
     "execution_count": 50,
     "metadata": {},
     "output_type": "execute_result"
    }
   ],
   "source": [
    "resturant_billing(burger=2,coffee=3,tea=3)"
   ]
  },
  {
   "cell_type": "markdown",
   "id": "0a021ece",
   "metadata": {},
   "source": [
    "# Generator Function"
   ]
  },
  {
   "cell_type": "code",
   "execution_count": 51,
   "id": "f563d383",
   "metadata": {},
   "outputs": [],
   "source": [
    "# 0,1,1,2,3,5,8,13,21"
   ]
  },
  {
   "cell_type": "code",
   "execution_count": 52,
   "id": "50d1776c",
   "metadata": {},
   "outputs": [
    {
     "name": "stdout",
     "output_type": "stream",
     "text": [
      "1\n",
      "2\n",
      "3\n",
      "4\n",
      "5\n",
      "6\n",
      "7\n",
      "8\n",
      "9\n",
      "10\n"
     ]
    }
   ],
   "source": [
    "# while\n",
    "# 1;initiallisation\n",
    "# 1;condition checking\n",
    "# 3;increment / decrement \n",
    "i=1\n",
    "while i<=10:\n",
    "    print(i)\n",
    "    i=i+1"
   ]
  },
  {
   "cell_type": "code",
   "execution_count": 53,
   "id": "8f91d74f",
   "metadata": {},
   "outputs": [],
   "source": [
    "i=1\n",
    "sum=0\n",
    "while i<=10:\n",
    "    sum=sum+i\n",
    "    i=i+1"
   ]
  },
  {
   "cell_type": "code",
   "execution_count": 54,
   "id": "4aeda6b7",
   "metadata": {},
   "outputs": [
    {
     "data": {
      "text/plain": [
       "55"
      ]
     },
     "execution_count": 54,
     "metadata": {},
     "output_type": "execute_result"
    }
   ],
   "source": [
    "sum\n",
    "# print table of any number using while loop"
   ]
  },
  {
   "cell_type": "code",
   "execution_count": 62,
   "id": "d7853e40",
   "metadata": {},
   "outputs": [
    {
     "name": "stdout",
     "output_type": "stream",
     "text": [
      "7 x 1 = 7\n",
      "7 x 2 = 14\n",
      "7 x 3 = 21\n",
      "7 x 4 = 28\n",
      "7 x 5 = 35\n",
      "7 x 6 = 42\n",
      "7 x 7 = 49\n",
      "7 x 8 = 56\n",
      "7 x 9 = 63\n",
      "7 x 10 = 70\n"
     ]
    }
   ],
   "source": [
    "num = int(input(\"Enter a number: \"))\n",
    "\n",
    "i = 1\n",
    "while i <= 10:\n",
    "    print(f\"{num} x {i} = {num * i}\")\n",
    "    i += 1\n"
   ]
  },
  {
   "cell_type": "code",
   "execution_count": null,
   "id": "b8619199",
   "metadata": {},
   "outputs": [],
   "source": []
  },
  {
   "cell_type": "code",
   "execution_count": null,
   "id": "d81ce2be",
   "metadata": {},
   "outputs": [],
   "source": [
    "def fabb_number():\n",
    "a,b=0,1\n",
    "while True:\n",
    "    yield a\n",
    "    a,b=b,a+b\n",
    "    a=0,b=1\n",
    "    "
   ]
  },
  {
   "cell_type": "code",
   "execution_count": null,
   "id": "0ec1e37f",
   "metadata": {},
   "outputs": [],
   "source": []
  }
 ],
 "metadata": {
  "kernelspec": {
   "display_name": "base",
   "language": "python",
   "name": "python3"
  },
  "language_info": {
   "codemirror_mode": {
    "name": "ipython",
    "version": 3
   },
   "file_extension": ".py",
   "mimetype": "text/x-python",
   "name": "python",
   "nbconvert_exporter": "python",
   "pygments_lexer": "ipython3",
   "version": "3.13.5"
  }
 },
 "nbformat": 4,
 "nbformat_minor": 5
}
