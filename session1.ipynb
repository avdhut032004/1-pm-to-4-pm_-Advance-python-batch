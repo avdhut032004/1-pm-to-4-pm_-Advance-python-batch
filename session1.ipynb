{
 "cells": [
  {
   "cell_type": "code",
   "execution_count": null,
   "id": "55666561",
   "metadata": {},
   "outputs": [],
   "source": [
    "# heading"
   ]
  },
  {
   "cell_type": "markdown",
   "id": "1462b25d",
   "metadata": {},
   "source": [
    "# session1"
   ]
  },
  {
   "cell_type": "markdown",
   "id": "33bce092",
   "metadata": {},
   "source": [
    "# subheding1\n",
    "# subheding2"
   ]
  },
  {
   "cell_type": "code",
   "execution_count": 1,
   "id": "9e6ea6bb",
   "metadata": {},
   "outputs": [
    {
     "name": "stdout",
     "output_type": "stream",
     "text": [
      "Hellow world\n"
     ]
    }
   ],
   "source": [
    "print(\"Hellow world\")\n"
   ]
  },
  {
   "cell_type": "code",
   "execution_count": 1,
   "id": "3adae929",
   "metadata": {},
   "outputs": [
    {
     "name": "stdout",
     "output_type": "stream",
     "text": [
      "ETLHIVE\n"
     ]
    }
   ],
   "source": [
    "print(\"ETLHIVE\")"
   ]
  },
  {
   "cell_type": "code",
   "execution_count": 6,
   "id": "35c30af6",
   "metadata": {},
   "outputs": [],
   "source": [
    "lst=[1,2,3,4,5,6,7,8,9,10]"
   ]
  },
  {
   "cell_type": "code",
   "execution_count": 7,
   "id": "ffdad9e4",
   "metadata": {},
   "outputs": [
    {
     "data": {
      "text/plain": [
       "[1, 2, 3, 4, 5, 6, 7, 8, 9, 10]"
      ]
     },
     "execution_count": 7,
     "metadata": {},
     "output_type": "execute_result"
    }
   ],
   "source": [
    "lst"
   ]
  },
  {
   "cell_type": "code",
   "execution_count": null,
   "id": "d6c65b5e",
   "metadata": {},
   "outputs": [],
   "source": []
  }
 ],
 "metadata": {
  "kernelspec": {
   "display_name": "base",
   "language": "python",
   "name": "python3"
  },
  "language_info": {
   "codemirror_mode": {
    "name": "ipython",
    "version": 3
   },
   "file_extension": ".py",
   "mimetype": "text/x-python",
   "name": "python",
   "nbconvert_exporter": "python",
   "pygments_lexer": "ipython3",
   "version": "3.13.5"
  }
 },
 "nbformat": 4,
 "nbformat_minor": 5
}
