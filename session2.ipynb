{
 "cells": [
  {
   "cell_type": "markdown",
   "id": "6b858d4b",
   "metadata": {},
   "source": [
    "Session 2"
   ]
  },
  {
   "cell_type": "markdown",
   "id": "1d3f3a40",
   "metadata": {},
   "source": [
    "- two types of function\n",
    "- 1) pre-defined function\n",
    "- 2) user defined function"
   ]
  },
  {
   "cell_type": "code",
   "execution_count": 1,
   "id": "f9227d5b",
   "metadata": {},
   "outputs": [
    {
     "data": {
      "text/plain": [
       "7"
      ]
     },
     "execution_count": 1,
     "metadata": {},
     "output_type": "execute_result"
    }
   ],
   "source": [
    "len(\"ETLHIVE\")"
   ]
  },
  {
   "cell_type": "markdown",
   "id": "c1604ffc",
   "metadata": {},
   "source": [
    "user defined function"
   ]
  },
  {
   "cell_type": "code",
   "execution_count": 4,
   "id": "5dc8ff76",
   "metadata": {},
   "outputs": [],
   "source": [
    "def print_table(n):\n",
    "    for i in range(1,11):\n",
    "        print(n*i)"
   ]
  },
  {
   "cell_type": "code",
   "execution_count": 5,
   "id": "e1ad7cd4",
   "metadata": {},
   "outputs": [
    {
     "name": "stdout",
     "output_type": "stream",
     "text": [
      "8\n",
      "16\n",
      "24\n",
      "32\n",
      "40\n",
      "48\n",
      "56\n",
      "64\n",
      "72\n",
      "80\n"
     ]
    }
   ],
   "source": [
    "print_table(8)"
   ]
  },
  {
   "cell_type": "code",
   "execution_count": 16,
   "id": "57cbfc80",
   "metadata": {},
   "outputs": [],
   "source": [
    "# def function_name parameter list):\n",
    "# logical part  "
   ]
  },
  {
   "cell_type": "code",
   "execution_count": 17,
   "id": "71b0eb79",
   "metadata": {},
   "outputs": [],
   "source": [
    "# defining # function \n",
    "def greet():\n",
    "    print(\"welcome to ETLHIVE\")"
   ]
  },
  {
   "cell_type": "code",
   "execution_count": 18,
   "id": "187ffe37",
   "metadata": {},
   "outputs": [],
   "source": [
    "# function with parameter \n",
    "def greetl(name):\n",
    "    print(f\"welcome to ETLHIVE{name}\")"
   ]
  },
  {
   "cell_type": "code",
   "execution_count": 19,
   "id": "9a9016af",
   "metadata": {},
   "outputs": [
    {
     "name": "stdout",
     "output_type": "stream",
     "text": [
      "welcome to ETLHIVEvishal\n"
     ]
    }
   ],
   "source": [
    "# calling \n",
    "greetl(\"vishal\")"
   ]
  },
  {
   "cell_type": "code",
   "execution_count": 21,
   "id": "07acbe78",
   "metadata": {},
   "outputs": [
    {
     "name": "stdout",
     "output_type": "stream",
     "text": [
      "welcome to ETLHIVEsmith\n"
     ]
    }
   ],
   "source": [
    "greetl(\"smith\")"
   ]
  },
  {
   "cell_type": "code",
   "execution_count": 7,
   "id": "ff5b2a54",
   "metadata": {},
   "outputs": [],
   "source": [
    "lst=[3,5,7,8,9,23,23,45,67]"
   ]
  },
  {
   "cell_type": "code",
   "execution_count": 8,
   "id": "24a66d36",
   "metadata": {},
   "outputs": [
    {
     "name": "stdout",
     "output_type": "stream",
     "text": [
      "Squares of values:\n",
      "3^2 = 9\n",
      "5^2 = 25\n",
      "7^2 = 49\n",
      "8^2 = 64\n",
      "9^2 = 81\n",
      "23^2 = 529\n",
      "45^2 = 2025\n",
      "67^2 = 4489\n"
     ]
    }
   ],
   "source": [
    "lst = [3, 5, 7, 8, 9, 23, 45, 67]\n",
    "print(\"Squares of values:\")\n",
    "for num in lst:\n",
    "    print(f\"{num}^2 = {num**2}\")\n"
   ]
  },
  {
   "cell_type": "code",
   "execution_count": 11,
   "id": "587c7abf",
   "metadata": {},
   "outputs": [],
   "source": [
    "def print_square(l):\n",
    "    for i in l:\n",
    "        print(i*i)"
   ]
  },
  {
   "cell_type": "code",
   "execution_count": 12,
   "id": "90e4a28e",
   "metadata": {},
   "outputs": [
    {
     "name": "stdout",
     "output_type": "stream",
     "text": [
      "9\n",
      "25\n",
      "49\n",
      "64\n",
      "81\n",
      "529\n",
      "2025\n",
      "4489\n"
     ]
    }
   ],
   "source": [
    "print_square(lst)"
   ]
  },
  {
   "cell_type": "code",
   "execution_count": 13,
   "id": "c7f4e67d",
   "metadata": {},
   "outputs": [],
   "source": [
    "def cal_cube(n):\n",
    "    print(f\"cube of a number{n} is {n*n*n}\")"
   ]
  },
  {
   "cell_type": "code",
   "execution_count": 14,
   "id": "b47ebcaa",
   "metadata": {},
   "outputs": [
    {
     "name": "stdout",
     "output_type": "stream",
     "text": [
      "cube of a number4 is 64\n"
     ]
    }
   ],
   "source": [
    "# calling a function \n",
    "cal_cube(4)"
   ]
  },
  {
   "cell_type": "code",
   "execution_count": 15,
   "id": "b3f9e2e8",
   "metadata": {},
   "outputs": [
    {
     "name": "stdout",
     "output_type": "stream",
     "text": [
      "cube of a number9 is 729\n"
     ]
    }
   ],
   "source": [
    "cal_cube(9)"
   ]
  },
  {
   "cell_type": "code",
   "execution_count": null,
   "id": "b5cc5c7f",
   "metadata": {},
   "outputs": [],
   "source": []
  },
  {
   "cell_type": "code",
   "execution_count": 24,
   "id": "e6e01a58",
   "metadata": {},
   "outputs": [],
   "source": [
    "def mul(a,b):\n",
    "    print(f\"multiplication\",{a*b})"
   ]
  },
  {
   "cell_type": "code",
   "execution_count": 25,
   "id": "70b6ac19",
   "metadata": {},
   "outputs": [
    {
     "name": "stdout",
     "output_type": "stream",
     "text": [
      "multiplication {1350}\n"
     ]
    }
   ],
   "source": [
    "mul(30,45)"
   ]
  },
  {
   "cell_type": "code",
   "execution_count": 27,
   "metadata": {},
   "outputs": [],
   "source": [
    "lst=[1,2,3,4,5]"
   ]
  },
  {
   "cell_type": "code",
   "execution_count": 28,
   "id": "62d7ab8c",
   "metadata": {},
   "outputs": [
    {
     "name": "stdout",
     "output_type": "stream",
     "text": [
      "Sum of list: 15\n"
     ]
    }
   ],
   "source": [
    "def list_sum(lst):\n",
    "    total = 0\n",
    "    for num in lst:\n",
    "        total += num\n",
    "    return total\n",
    "\n",
    "lst = [1, 2, 3, 4, 5]\n",
    "print(\"Sum of list:\", list_sum(lst))\n"
   ]
  },
  {
   "cell_type": "code",
   "execution_count": 29,
   "id": "e5bce1d2",
   "metadata": {},
   "outputs": [
    {
     "name": "stdout",
     "output_type": "stream",
     "text": [
      "Product of list: 120\n"
     ]
    }
   ],
   "source": [
    "def list_product(lst):\n",
    "    product = 1  \n",
    "    for num in lst:\n",
    "        product *= num\n",
    "    return product\n",
    "\n",
    "\n",
    "lst = [1, 2, 3, 4, 5]\n",
    "print(\"Product of list:\", list_product(lst))\n"
   ]
  },
  {
   "cell_type": "code",
   "execution_count": 30,
   "id": "6999bc14",
   "metadata": {},
   "outputs": [],
   "source": [
    " # (AC)^ 2=(AB)^2+(BC)^2\n",
    " # c^2=a^2+b^2\n",
    " # c=(a^2+b^2)^0.5\n",
    " # 4,5"
   ]
  },
  {
   "cell_type": "code",
   "execution_count": 31,
   "id": "8ec587bd",
   "metadata": {},
   "outputs": [
    {
     "name": "stdout",
     "output_type": "stream",
     "text": [
      "Hypotenuse: 6.4031242374328485\n"
     ]
    }
   ],
   "source": [
    "import math\n",
    "\n",
    "def hypotenuse(a, b):\n",
    "    return math.sqrt(a**2 + b**2)\n",
    "\n",
    "a = 4\n",
    "b = 5\n",
    "print(\"Hypotenuse:\", hypotenuse(a, b))\n"
   ]
  },
  {
   "cell_type": "code",
   "execution_count": 32,
   "id": "69b538b6",
   "metadata": {},
   "outputs": [
    {
     "name": "stdout",
     "output_type": "stream",
     "text": [
      "Right-angled triangle\n",
      "Equilateral triangle\n",
      "Isosceles triangle\n",
      "Scalene triangle\n",
      "Not a valid triangle\n"
     ]
    }
   ],
   "source": [
    "import math\n",
    "\n",
    "def triangle_type(a, b, c):\n",
    "    if (a + b <= c) or (a + c <= b) or (b + c <= a):\n",
    "        return \"Not a valid triangle\"\n",
    "    \n",
    "    if a == b == c:\n",
    "        return \"Equilateral triangle\"\n",
    "    \n",
    "    elif a == b or b == c or a == c:\n",
    "        return \"Isosceles triangle\"\n",
    "    \n",
    "    sides = sorted([a, b, c]) \n",
    "    if math.isclose(sides[2]**2, sides[0]**2 + sides[1]**2):\n",
    "        return \"Right-angled triangle\"\n",
    "    \n",
    "    else:\n",
    "        return \"Scalene triangle\"\n",
    "\n",
    "\n",
    "print(triangle_type(3, 4, 5))   # Right-angled\n",
    "print(triangle_type(5, 5, 5))   # Equilateral\n",
    "print(triangle_type(5, 5, 8))   # Isosceles\n",
    "print(triangle_type(7, 8, 9))   # Scalene\n",
    "print(triangle_type(1, 2, 3))   # Not a valid triangle\n"
   ]
  },
  {
   "cell_type": "code",
   "execution_count": null,
   "id": "d3ea1457",
   "metadata": {},
   "outputs": [],
   "source": []
  },
  {
   "cell_type": "code",
   "execution_count": null,
   "id": "763e8f78",
   "metadata": {},
   "outputs": [
    {
     "name": "stdout",
     "output_type": "stream",
     "text": [
      "Area: 6.0\n",
      "Area: 26.832815729997478\n",
      "Area: Not a valid triangle\n"
     ]
    }
   ],
   "source": [
    " def triangle_area(a, b, c):\n",
    "    # सर्वात आधी check कर triangle बनतो का\n",
    "    if (a + b <= c) or (a + c <= b) or (b + c <= a):\n",
    "        return \"Not a valid triangle\"\n",
    "    \n",
    "    s = (a + b + c) / 2  # semi-perimeter\n",
    "    area = math.sqrt(s * (s - a) * (s - b) * (s - c))\n",
    "    return area\n",
    "\n",
    "\n",
    "print(\"Area:\", triangle_area(3, 4, 5))\n",
    "print(\"Area:\", triangle_area(7, 8, 9))\n",
    "print(\"Area:\", triangle_area(2, 3, 10))  # invalid\n"
   ]
  },
  {
   "cell_type": "code",
   "execution_count": null,
   "id": "ed45f328",
   "metadata": {},
   "outputs": [],
   "source": []
  },
  {
   "cell_type": "code",
   "execution_count": null,
   "id": "28932ed0",
   "metadata": {},
   "outputs": [],
   "source": []
  },
  {
   "cell_type": "code",
   "execution_count": null,
   "id": "aed7868d",
   "metadata": {},
   "outputs": [],
   "source": []
  }
 ],
 "metadata": {
  "kernelspec": {
   "display_name": "base",
   "language": "python",
   "name": "python3"
  },
  "language_info": {
   "codemirror_mode": {
    "name": "ipython",
    "version": 3
   },
   "file_extension": ".py",
   "mimetype": "text/x-python",
   "name": "python",
   "nbconvert_exporter": "python",
   "pygments_lexer": "ipython3",
   "version": "3.13.5"
  }
 },
 "nbformat": 4,
 "nbformat_minor": 5
}
